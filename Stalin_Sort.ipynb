{
  "nbformat": 4,
  "nbformat_minor": 0,
  "metadata": {
    "colab": {
      "provenance": []
    },
    "kernelspec": {
      "name": "python3",
      "display_name": "Python 3"
    },
    "language_info": {
      "name": "python"
    }
  },
  "cells": [
    {
      "cell_type": "code",
      "execution_count": 18,
      "metadata": {
        "colab": {
          "base_uri": "https://localhost:8080/"
        },
        "id": "Sejys9kXQFvy",
        "outputId": "bc45dd60-a483-44b1-e3b2-d6756fc85bc7"
      },
      "outputs": [
        {
          "output_type": "stream",
          "name": "stdout",
          "text": [
            "スターリンソート前: [16, 80, 83, 17, 46, 27, 34, 25, 16, 58, 33, 69, 82, 20, 88, 82, 35, 74, 49, 39, 55, 90, 18, 99, 70, 58, 7, 79, 36, 29, 91, 98, 25, 99, 22, 51, 2, 21, 69, 23, 1, 73, 11, 65, 60, 9, 12, 50, 50, 74, 37, 34, 57, 13, 9, 38, 40, 92, 100, 19, 85, 44, 1, 51, 60, 0, 76, 79, 78, 39, 85, 63, 71, 34, 91, 7, 63, 83, 73, 94, 67, 50, 6, 14, 79, 5, 83, 21, 91, 64, 10, 77, 43, 24, 22, 100, 37, 32, 2, 30]\n",
            "スターリンソート後 [16, 80, 83, 88, 90, 99, 99, 100, 100]\n"
          ]
        }
      ],
      "source": [
        "import random\n",
        "\n",
        "#粛清メソッド\n",
        "def eliminate(data):\n",
        "  eliminated = []\n",
        "  before = data[0]-1\n",
        "  for index , value in enumerate(data):\n",
        "    if value >= before:\n",
        "      eliminated.append(value)\n",
        "      before = value\n",
        "  return eliminated\n",
        "\n",
        "\n",
        "data = []\n",
        "for i in range(100):\n",
        "  #被害者生成\n",
        "  data.append(random.randint(0,100))\n",
        "#Let's 粛清\n",
        "eliminated_data = eliminate(data)\n",
        "print(\"スターリンソート前:\",data)\n",
        "print(\"スターリンソート後\",eliminated_data)"
      ]
    }
  ]
}